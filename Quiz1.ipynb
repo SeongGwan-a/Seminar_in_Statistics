{
  "nbformat": 4,
  "nbformat_minor": 0,
  "metadata": {
    "colab": {
      "name": "Quiz1.ipynb",
      "private_outputs": true,
      "provenance": [],
      "authorship_tag": "ABX9TyNjKqysVQ6LW64xIO/SD8OS",
      "include_colab_link": true
    },
    "kernelspec": {
      "name": "python3",
      "display_name": "Python 3"
    },
    "language_info": {
      "name": "python"
    }
  },
  "cells": [
    {
      "cell_type": "markdown",
      "metadata": {
        "id": "view-in-github",
        "colab_type": "text"
      },
      "source": [
        "<a href=\"https://colab.research.google.com/github/tjdrhks0808/Seminar_in_Statistics/blob/gh-pages/Quiz1.ipynb\" target=\"_parent\"><img src=\"https://colab.research.google.com/assets/colab-badge.svg\" alt=\"Open In Colab\"/></a>"
      ]
    },
    {
      "cell_type": "code",
      "metadata": {
        "id": "Zgx7KQVU0b9G"
      },
      "source": [
        ""
      ],
      "execution_count": null,
      "outputs": []
    },
    {
      "cell_type": "markdown",
      "metadata": {
        "id": "--tdsGNY1NAF"
      },
      "source": [
        "# Data Generate"
      ]
    },
    {
      "cell_type": "code",
      "metadata": {
        "id": "CD-6aA--JJ5f"
      },
      "source": [
        "with open('ids.txt', 'w') as f :\n",
        "    f.write('ID\\nJohn\\nKarl\\nAndy\\nTim\\n')"
      ],
      "execution_count": null,
      "outputs": []
    },
    {
      "cell_type": "code",
      "metadata": {
        "id": "MUDVsj90JJyZ"
      },
      "source": [
        "with open('data1.txt', 'w') as f :\n",
        "    f.write('ID\\tfield1\\tfield2\\tfield3\\nTom\\t1\\t3\\t1\\nJohn\\t1\\t3\\t3\\nTom\\t1\\t1\\t1\\nKarl\\t1\\t1\\t2\\nKarl\\t1\\t3\\t2\\nKarl\\t2\\t2\\t2\\nAndy\\t1\\t2\\t3')"
      ],
      "execution_count": null,
      "outputs": []
    },
    {
      "cell_type": "code",
      "metadata": {
        "id": "6E9MqEipJJqv"
      },
      "source": [
        "with open('data2.txt', 'w') as f :\n",
        "    f.write('ID\\tfield1\\tfield2\\tfield3\\nTom\\t2\\t3\\t1\\nJane\\t1\\t1\\t3\\nJane\\t2\\t2\\t1\\nMax\\t3\\t1\\t2\\nKarl\\t1\\t4\\t2\\nMax\\t3\\t2\\t2\\nMax\\t2\\t2\\t1')"
      ],
      "execution_count": null,
      "outputs": []
    },
    {
      "cell_type": "markdown",
      "metadata": {
        "id": "96yTb7ZwTeBD"
      },
      "source": [
        "#### How to read ids"
      ]
    },
    {
      "cell_type": "code",
      "metadata": {
        "id": "LE6-LaRDTRSd"
      },
      "source": [
        "### Hint1\n",
        "\n",
        "ids = []\n",
        "with open(\"ids.txt\", encoding='utf-8') as f:\n",
        "    for item in f:\n",
        "        ids.append(item.strip())"
      ],
      "execution_count": null,
      "outputs": []
    },
    {
      "cell_type": "markdown",
      "metadata": {
        "id": "sdjUyfv8k0GN"
      },
      "source": [
        "#### How to read data"
      ]
    },
    {
      "cell_type": "code",
      "metadata": {
        "id": "mgysdIoe2fCV"
      },
      "source": [
        "### Hint 2\n",
        "\n",
        "with open(\"data1.txt\", encoding='utf-8') as f:\n",
        "  for item in f :\n",
        "    nm, f1, f2, f3 = item.strip().split()\n",
        "    print(\"nm: {}, f1: {}, f2: {}, f3: {}\".format(nm, f1,f2,f3) )"
      ],
      "execution_count": null,
      "outputs": []
    },
    {
      "cell_type": "code",
      "metadata": {
        "id": "6UyWz3MS2fCV"
      },
      "source": [
        "ids[1:]"
      ],
      "execution_count": null,
      "outputs": []
    },
    {
      "cell_type": "code",
      "metadata": {
        "id": "DN3NtOWB2fCW"
      },
      "source": [
        "with open('new_data.txt', 'w') as fw :\n",
        "\n",
        "  with open(\"data1.txt\", encoding='utf-8') as f:\n",
        "    for item in f :\n",
        "      nm, f1, f2, f3 = item.strip().split()\n",
        "      if nm in ids:\n",
        "        fw.write(\"{}\\t{}\\t{}\\t{}\\n\".format(nm, f1,f2,f3))\n",
        "  with open(\"data2.txt\", encoding='utf-8') as f:\n",
        "    for item in f :\n",
        "      nm, f1, f2, f3 = item.strip().split()\n",
        "      if nm in ids[1:]:\n",
        "        fw.write(\"{}\\t{}\\t{}\\t{}\\n\".format(nm, f1,f2,f3))"
      ],
      "execution_count": null,
      "outputs": []
    },
    {
      "cell_type": "code",
      "metadata": {
        "id": "m5ts7KMH8hMl"
      },
      "source": [
        "  with open(\"new_data.txt\", encoding='utf-8') as f:\n",
        "    for item in f :\n",
        "      print(item)"
      ],
      "execution_count": null,
      "outputs": []
    }
  ]
}