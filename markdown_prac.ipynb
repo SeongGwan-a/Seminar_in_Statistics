{
  "nbformat": 4,
  "nbformat_minor": 0,
  "metadata": {
    "colab": {
      "name": "Untitled5.ipynb",
      "private_outputs": true,
      "provenance": [],
      "authorship_tag": "ABX9TyPDjXl5ipvIeg2w8JTUpg0y",
      "include_colab_link": true
    },
    "kernelspec": {
      "name": "python3",
      "display_name": "Python 3"
    }
  },
  "cells": [
    {
      "cell_type": "markdown",
      "metadata": {
        "id": "view-in-github",
        "colab_type": "text"
      },
      "source": [
        "<a href=\"https://colab.research.google.com/github/tjdrhks0808/Seminar_in_Statistics/blob/main/markdown_prac.ipynb\" target=\"_parent\"><img src=\"https://colab.research.google.com/assets/colab-badge.svg\" alt=\"Open In Colab\"/></a>"
      ]
    },
    {
      "cell_type": "markdown",
      "metadata": {
        "id": "4i80xVyax6J4"
      },
      "source": [
        "# Markdown in colab\r\n",
        "\r\n",
        "![alt_text][logo]\r\n",
        "\r\n",
        "[logo]:https://github.com/tjdrhks0808/Seminar_in_Statistics/blob/main/markdown.png"
      ]
    },
    {
      "cell_type": "code",
      "metadata": {
        "id": "zogpjpcezbwU"
      },
      "source": [
        ""
      ],
      "execution_count": null,
      "outputs": []
    }
  ]
}