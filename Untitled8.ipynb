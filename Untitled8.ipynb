{
  "nbformat": 4,
  "nbformat_minor": 0,
  "metadata": {
    "colab": {
      "name": "Untitled8.ipynb",
      "provenance": [],
      "collapsed_sections": [],
      "authorship_tag": "ABX9TyMSmKqIGcn0ozHvDarsWyrH",
      "include_colab_link": true
    },
    "kernelspec": {
      "name": "python3",
      "display_name": "Python 3"
    },
    "language_info": {
      "name": "python"
    }
  },
  "cells": [
    {
      "cell_type": "markdown",
      "metadata": {
        "id": "view-in-github",
        "colab_type": "text"
      },
      "source": [
        "<a href=\"https://colab.research.google.com/github/SeongGwan-a/Seminar_in_Statistics/blob/main/Untitled8.ipynb\" target=\"_parent\"><img src=\"https://colab.research.google.com/assets/colab-badge.svg\" alt=\"Open In Colab\"/></a>"
      ]
    },
    {
      "cell_type": "code",
      "metadata": {
        "colab": {
          "base_uri": "https://localhost:8080/"
        },
        "id": "hCAbJyCOJwko",
        "outputId": "553cd8fb-85af-4db6-ee19-a2e0f0038216"
      },
      "source": [
        "!pip install finance-datareader"
      ],
      "execution_count": 42,
      "outputs": [
        {
          "output_type": "stream",
          "name": "stdout",
          "text": [
            "Requirement already satisfied: finance-datareader in /usr/local/lib/python3.7/dist-packages (0.9.31)\n",
            "Requirement already satisfied: tqdm in /usr/local/lib/python3.7/dist-packages (from finance-datareader) (4.62.3)\n",
            "Requirement already satisfied: requests-file in /usr/local/lib/python3.7/dist-packages (from finance-datareader) (1.5.1)\n",
            "Requirement already satisfied: requests>=2.3.0 in /usr/local/lib/python3.7/dist-packages (from finance-datareader) (2.23.0)\n",
            "Requirement already satisfied: lxml in /usr/local/lib/python3.7/dist-packages (from finance-datareader) (4.2.6)\n",
            "Requirement already satisfied: pandas>=0.19.2 in /usr/local/lib/python3.7/dist-packages (from finance-datareader) (1.1.5)\n",
            "Requirement already satisfied: python-dateutil>=2.7.3 in /usr/local/lib/python3.7/dist-packages (from pandas>=0.19.2->finance-datareader) (2.8.2)\n",
            "Requirement already satisfied: numpy>=1.15.4 in /usr/local/lib/python3.7/dist-packages (from pandas>=0.19.2->finance-datareader) (1.19.5)\n",
            "Requirement already satisfied: pytz>=2017.2 in /usr/local/lib/python3.7/dist-packages (from pandas>=0.19.2->finance-datareader) (2018.9)\n",
            "Requirement already satisfied: six>=1.5 in /usr/local/lib/python3.7/dist-packages (from python-dateutil>=2.7.3->pandas>=0.19.2->finance-datareader) (1.15.0)\n",
            "Requirement already satisfied: urllib3!=1.25.0,!=1.25.1,<1.26,>=1.21.1 in /usr/local/lib/python3.7/dist-packages (from requests>=2.3.0->finance-datareader) (1.24.3)\n",
            "Requirement already satisfied: idna<3,>=2.5 in /usr/local/lib/python3.7/dist-packages (from requests>=2.3.0->finance-datareader) (2.10)\n",
            "Requirement already satisfied: chardet<4,>=3.0.2 in /usr/local/lib/python3.7/dist-packages (from requests>=2.3.0->finance-datareader) (3.0.4)\n",
            "Requirement already satisfied: certifi>=2017.4.17 in /usr/local/lib/python3.7/dist-packages (from requests>=2.3.0->finance-datareader) (2021.10.8)\n"
          ]
        }
      ]
    },
    {
      "cell_type": "code",
      "metadata": {
        "id": "EUtzIm5RKETg"
      },
      "source": [
        "import pandas as pd"
      ],
      "execution_count": 43,
      "outputs": []
    },
    {
      "cell_type": "code",
      "metadata": {
        "id": "Drk6ugecJ3sV"
      },
      "source": [
        "import FinanceDataReader as fdr\n",
        "access_bio = fdr.DataReader('950130', '2010')"
      ],
      "execution_count": 108,
      "outputs": []
    },
    {
      "cell_type": "code",
      "metadata": {
        "id": "D_QRtMc4J-jW"
      },
      "source": [
        "kospi = fdr.DataReader('KS11', '2010')\n",
        "kospi.rename(columns={'Open' : 'KOSPI'}, inplace = True)\n",
        "\n",
        "kosdaq = fdr.DataReader('KQ11', '2010')\n",
        "kosdaq.rename(columns={'Open' : 'KOSDAQ'}, inplace = True)\n",
        "\n",
        "kospi = kospi[['KOSPI']]\n",
        "kosdaq = kosdaq[['KOSDAQ']]"
      ],
      "execution_count": 109,
      "outputs": []
    },
    {
      "cell_type": "code",
      "metadata": {
        "id": "pX3zhtF3KBK4"
      },
      "source": [
        "#엑세스바이오\n",
        "access_bio_df = pd.merge(access_bio, kosdaq, on = 'Date', how = 'right')\n",
        "access_bio_df = pd.merge(access_bio_df, kospi, on = 'Date', how = 'right')\n",
        "access_bio_df = pd.merge(access_bio_df, nasdaq, on = 'Date', how = 'right')"
      ],
      "execution_count": 110,
      "outputs": []
    },
    {
      "cell_type": "code",
      "metadata": {
        "id": "PMTBotgsKDQA"
      },
      "source": [
        "access_bio_df = access_bio_df.reset_index()\n",
        "access_bio_df = access_bio_df.dropna(axis = 0)"
      ],
      "execution_count": 111,
      "outputs": []
    },
    {
      "cell_type": "code",
      "metadata": {
        "colab": {
          "base_uri": "https://localhost:8080/",
          "height": 419
        },
        "id": "BzqqUfhgKJQB",
        "outputId": "d493cabe-fdc9-4e40-84f3-7c17b978e0d7"
      },
      "source": [
        "access_bio_df = access_bio_df.sort_values(by = 'Date')\n",
        "access_bio_df = access_bio_df.reset_index(drop=True)\n",
        "access_bio_df"
      ],
      "execution_count": 112,
      "outputs": [
        {
          "output_type": "execute_result",
          "data": {
            "text/html": [
              "<div>\n",
              "<style scoped>\n",
              "    .dataframe tbody tr th:only-of-type {\n",
              "        vertical-align: middle;\n",
              "    }\n",
              "\n",
              "    .dataframe tbody tr th {\n",
              "        vertical-align: top;\n",
              "    }\n",
              "\n",
              "    .dataframe thead th {\n",
              "        text-align: right;\n",
              "    }\n",
              "</style>\n",
              "<table border=\"1\" class=\"dataframe\">\n",
              "  <thead>\n",
              "    <tr style=\"text-align: right;\">\n",
              "      <th></th>\n",
              "      <th>Date</th>\n",
              "      <th>Open</th>\n",
              "      <th>High</th>\n",
              "      <th>Low</th>\n",
              "      <th>Close</th>\n",
              "      <th>Volume</th>\n",
              "      <th>Change</th>\n",
              "      <th>KOSDAQ</th>\n",
              "      <th>KOSPI</th>\n",
              "      <th>NASDAQ</th>\n",
              "    </tr>\n",
              "  </thead>\n",
              "  <tbody>\n",
              "    <tr>\n",
              "      <th>0</th>\n",
              "      <td>2013-05-31</td>\n",
              "      <td>11900.0</td>\n",
              "      <td>11900.0</td>\n",
              "      <td>11750.0</td>\n",
              "      <td>11900.0</td>\n",
              "      <td>3147904.0</td>\n",
              "      <td>0.149758</td>\n",
              "      <td>583.14</td>\n",
              "      <td>2009.25</td>\n",
              "      <td>3455.9</td>\n",
              "    </tr>\n",
              "    <tr>\n",
              "      <th>1</th>\n",
              "      <td>2013-06-03</td>\n",
              "      <td>12200.0</td>\n",
              "      <td>12350.0</td>\n",
              "      <td>11450.0</td>\n",
              "      <td>12150.0</td>\n",
              "      <td>5255396.0</td>\n",
              "      <td>0.021008</td>\n",
              "      <td>576.23</td>\n",
              "      <td>1993.11</td>\n",
              "      <td>3465.4</td>\n",
              "    </tr>\n",
              "    <tr>\n",
              "      <th>2</th>\n",
              "      <td>2013-06-04</td>\n",
              "      <td>12150.0</td>\n",
              "      <td>12250.0</td>\n",
              "      <td>10600.0</td>\n",
              "      <td>11300.0</td>\n",
              "      <td>2711946.0</td>\n",
              "      <td>-0.069959</td>\n",
              "      <td>571.01</td>\n",
              "      <td>1998.38</td>\n",
              "      <td>3445.3</td>\n",
              "    </tr>\n",
              "    <tr>\n",
              "      <th>3</th>\n",
              "      <td>2013-06-05</td>\n",
              "      <td>11300.0</td>\n",
              "      <td>11400.0</td>\n",
              "      <td>10200.0</td>\n",
              "      <td>10200.0</td>\n",
              "      <td>1512415.0</td>\n",
              "      <td>-0.097345</td>\n",
              "      <td>560.38</td>\n",
              "      <td>1988.94</td>\n",
              "      <td>3401.5</td>\n",
              "    </tr>\n",
              "    <tr>\n",
              "      <th>4</th>\n",
              "      <td>2013-06-07</td>\n",
              "      <td>9900.0</td>\n",
              "      <td>10100.0</td>\n",
              "      <td>9260.0</td>\n",
              "      <td>9480.0</td>\n",
              "      <td>2087239.0</td>\n",
              "      <td>-0.070588</td>\n",
              "      <td>550.34</td>\n",
              "      <td>1953.83</td>\n",
              "      <td>3469.2</td>\n",
              "    </tr>\n",
              "    <tr>\n",
              "      <th>...</th>\n",
              "      <td>...</td>\n",
              "      <td>...</td>\n",
              "      <td>...</td>\n",
              "      <td>...</td>\n",
              "      <td>...</td>\n",
              "      <td>...</td>\n",
              "      <td>...</td>\n",
              "      <td>...</td>\n",
              "      <td>...</td>\n",
              "      <td>...</td>\n",
              "    </tr>\n",
              "    <tr>\n",
              "      <th>2018</th>\n",
              "      <td>2021-11-15</td>\n",
              "      <td>16750.0</td>\n",
              "      <td>18100.0</td>\n",
              "      <td>16750.0</td>\n",
              "      <td>16850.0</td>\n",
              "      <td>808103.0</td>\n",
              "      <td>0.021212</td>\n",
              "      <td>1016.35</td>\n",
              "      <td>2989.68</td>\n",
              "      <td>15853.8</td>\n",
              "    </tr>\n",
              "    <tr>\n",
              "      <th>2019</th>\n",
              "      <td>2021-11-16</td>\n",
              "      <td>17100.0</td>\n",
              "      <td>17100.0</td>\n",
              "      <td>16550.0</td>\n",
              "      <td>16700.0</td>\n",
              "      <td>245388.0</td>\n",
              "      <td>-0.008902</td>\n",
              "      <td>1029.35</td>\n",
              "      <td>2995.68</td>\n",
              "      <td>15973.9</td>\n",
              "    </tr>\n",
              "    <tr>\n",
              "      <th>2020</th>\n",
              "      <td>2021-11-17</td>\n",
              "      <td>16950.0</td>\n",
              "      <td>17200.0</td>\n",
              "      <td>16350.0</td>\n",
              "      <td>16700.0</td>\n",
              "      <td>422588.0</td>\n",
              "      <td>0.000000</td>\n",
              "      <td>1039.36</td>\n",
              "      <td>3004.02</td>\n",
              "      <td>15921.6</td>\n",
              "    </tr>\n",
              "    <tr>\n",
              "      <th>2021</th>\n",
              "      <td>2021-11-18</td>\n",
              "      <td>16850.0</td>\n",
              "      <td>16850.0</td>\n",
              "      <td>16150.0</td>\n",
              "      <td>16250.0</td>\n",
              "      <td>314771.0</td>\n",
              "      <td>-0.026946</td>\n",
              "      <td>1033.16</td>\n",
              "      <td>2959.26</td>\n",
              "      <td>15993.7</td>\n",
              "    </tr>\n",
              "    <tr>\n",
              "      <th>2022</th>\n",
              "      <td>2021-11-19</td>\n",
              "      <td>16000.0</td>\n",
              "      <td>16750.0</td>\n",
              "      <td>15900.0</td>\n",
              "      <td>16250.0</td>\n",
              "      <td>443948.0</td>\n",
              "      <td>0.000000</td>\n",
              "      <td>1032.07</td>\n",
              "      <td>2951.06</td>\n",
              "      <td>16057.4</td>\n",
              "    </tr>\n",
              "  </tbody>\n",
              "</table>\n",
              "<p>2023 rows × 10 columns</p>\n",
              "</div>"
            ],
            "text/plain": [
              "           Date     Open     High      Low  ...    Change   KOSDAQ    KOSPI   NASDAQ\n",
              "0    2013-05-31  11900.0  11900.0  11750.0  ...  0.149758   583.14  2009.25   3455.9\n",
              "1    2013-06-03  12200.0  12350.0  11450.0  ...  0.021008   576.23  1993.11   3465.4\n",
              "2    2013-06-04  12150.0  12250.0  10600.0  ... -0.069959   571.01  1998.38   3445.3\n",
              "3    2013-06-05  11300.0  11400.0  10200.0  ... -0.097345   560.38  1988.94   3401.5\n",
              "4    2013-06-07   9900.0  10100.0   9260.0  ... -0.070588   550.34  1953.83   3469.2\n",
              "...         ...      ...      ...      ...  ...       ...      ...      ...      ...\n",
              "2018 2021-11-15  16750.0  18100.0  16750.0  ...  0.021212  1016.35  2989.68  15853.8\n",
              "2019 2021-11-16  17100.0  17100.0  16550.0  ... -0.008902  1029.35  2995.68  15973.9\n",
              "2020 2021-11-17  16950.0  17200.0  16350.0  ...  0.000000  1039.36  3004.02  15921.6\n",
              "2021 2021-11-18  16850.0  16850.0  16150.0  ... -0.026946  1033.16  2959.26  15993.7\n",
              "2022 2021-11-19  16000.0  16750.0  15900.0  ...  0.000000  1032.07  2951.06  16057.4\n",
              "\n",
              "[2023 rows x 10 columns]"
            ]
          },
          "metadata": {},
          "execution_count": 112
        }
      ]
    },
    {
      "cell_type": "code",
      "metadata": {
        "colab": {
          "base_uri": "https://localhost:8080/"
        },
        "id": "RVi4OZ2EYgZH",
        "outputId": "a8ec5d62-447a-4ef3-a59b-ea36b6216569"
      },
      "source": [
        "from sklearn.preprocessing import MinMaxScaler\n",
        "\n",
        "scaler = MinMaxScaler()\n",
        "\n",
        "access_bio_scale_cols = ['Open', 'High', 'Low', 'Close', 'Volume', 'KOSDAQ', 'KOSPI']\n",
        "access_bio_df_scaled = scaler.fit_transform(access_bio_df[access_bio_scale_cols])\n",
        "\n",
        "access_bio_df_scaled = pd.DataFrame(access_bio_df_scaled)\n",
        "access_bio_df_scaled.columns = access_bio_scale_cols\n",
        "\n",
        "print(access_bio_df_scaled)"
      ],
      "execution_count": 119,
      "outputs": [
        {
          "output_type": "stream",
          "name": "stdout",
          "text": [
            "          Open      High       Low     Close    Volume    KOSDAQ     KOSPI\n",
            "0     0.203072  0.189189  0.271991  0.213261  0.063888  0.226008  0.292079\n",
            "1     0.208191  0.196343  0.265046  0.218458  0.106660  0.214823  0.283264\n",
            "2     0.207338  0.194754  0.245370  0.200790  0.055040  0.206374  0.286143\n",
            "3     0.192833  0.181240  0.236111  0.177926  0.030695  0.189168  0.280987\n",
            "4     0.168942  0.160572  0.214352  0.162960  0.042361  0.172917  0.261812\n",
            "...        ...       ...       ...       ...       ...       ...       ...\n",
            "2018  0.285836  0.287758  0.387731  0.316150  0.016401  0.927211  0.827538\n",
            "2019  0.291809  0.271860  0.383102  0.313033  0.004980  0.948253  0.830815\n",
            "2020  0.289249  0.273450  0.378472  0.313033  0.008577  0.964455  0.835370\n",
            "2021  0.287543  0.267886  0.373843  0.303679  0.006388  0.954420  0.810924\n",
            "2022  0.273038  0.266296  0.368056  0.303679  0.009010  0.952655  0.806446\n",
            "\n",
            "[2023 rows x 7 columns]\n"
          ]
        }
      ]
    },
    {
      "cell_type": "code",
      "metadata": {
        "id": "YEKZElLoVRG-"
      },
      "source": [
        "clf = [False]\n",
        "\n",
        "for i in range(len(access_bio_df_scaled)-1):\n",
        "    if access_bio_df_scaled['Close'][i] > access_bio_df_scaled['Close'][i+1]:\n",
        "        clf.append('decrease')\n",
        "    elif access_bio_df_scaled['Close'][i] == access_bio_df_scaled['Close'][i+1]:\n",
        "        clf.append('same')\n",
        "    else:\n",
        "        clf.append('increase')\n",
        "\n",
        "access_bio_df_scaled['clf'] = clf"
      ],
      "execution_count": 120,
      "outputs": []
    },
    {
      "cell_type": "code",
      "metadata": {
        "id": "SKvZRHiNYU0g"
      },
      "source": [
        "access_bio_df_scaled = access_bio_df_scaled[1:]"
      ],
      "execution_count": 121,
      "outputs": []
    },
    {
      "cell_type": "code",
      "metadata": {
        "colab": {
          "base_uri": "https://localhost:8080/",
          "height": 419
        },
        "id": "dpxlG6EXZd61",
        "outputId": "4b650b0d-2eb9-4eaf-999d-7d419bf483c0"
      },
      "source": [
        "access_bio_df_scaled"
      ],
      "execution_count": 122,
      "outputs": [
        {
          "output_type": "execute_result",
          "data": {
            "text/html": [
              "<div>\n",
              "<style scoped>\n",
              "    .dataframe tbody tr th:only-of-type {\n",
              "        vertical-align: middle;\n",
              "    }\n",
              "\n",
              "    .dataframe tbody tr th {\n",
              "        vertical-align: top;\n",
              "    }\n",
              "\n",
              "    .dataframe thead th {\n",
              "        text-align: right;\n",
              "    }\n",
              "</style>\n",
              "<table border=\"1\" class=\"dataframe\">\n",
              "  <thead>\n",
              "    <tr style=\"text-align: right;\">\n",
              "      <th></th>\n",
              "      <th>Open</th>\n",
              "      <th>High</th>\n",
              "      <th>Low</th>\n",
              "      <th>Close</th>\n",
              "      <th>Volume</th>\n",
              "      <th>KOSDAQ</th>\n",
              "      <th>KOSPI</th>\n",
              "      <th>clf</th>\n",
              "    </tr>\n",
              "  </thead>\n",
              "  <tbody>\n",
              "    <tr>\n",
              "      <th>1</th>\n",
              "      <td>0.208191</td>\n",
              "      <td>0.196343</td>\n",
              "      <td>0.265046</td>\n",
              "      <td>0.218458</td>\n",
              "      <td>0.106660</td>\n",
              "      <td>0.214823</td>\n",
              "      <td>0.283264</td>\n",
              "      <td>increase</td>\n",
              "    </tr>\n",
              "    <tr>\n",
              "      <th>2</th>\n",
              "      <td>0.207338</td>\n",
              "      <td>0.194754</td>\n",
              "      <td>0.245370</td>\n",
              "      <td>0.200790</td>\n",
              "      <td>0.055040</td>\n",
              "      <td>0.206374</td>\n",
              "      <td>0.286143</td>\n",
              "      <td>decrease</td>\n",
              "    </tr>\n",
              "    <tr>\n",
              "      <th>3</th>\n",
              "      <td>0.192833</td>\n",
              "      <td>0.181240</td>\n",
              "      <td>0.236111</td>\n",
              "      <td>0.177926</td>\n",
              "      <td>0.030695</td>\n",
              "      <td>0.189168</td>\n",
              "      <td>0.280987</td>\n",
              "      <td>decrease</td>\n",
              "    </tr>\n",
              "    <tr>\n",
              "      <th>4</th>\n",
              "      <td>0.168942</td>\n",
              "      <td>0.160572</td>\n",
              "      <td>0.214352</td>\n",
              "      <td>0.162960</td>\n",
              "      <td>0.042361</td>\n",
              "      <td>0.172917</td>\n",
              "      <td>0.261812</td>\n",
              "      <td>decrease</td>\n",
              "    </tr>\n",
              "    <tr>\n",
              "      <th>5</th>\n",
              "      <td>0.166382</td>\n",
              "      <td>0.163752</td>\n",
              "      <td>0.223380</td>\n",
              "      <td>0.175847</td>\n",
              "      <td>0.039942</td>\n",
              "      <td>0.153737</td>\n",
              "      <td>0.247262</td>\n",
              "      <td>increase</td>\n",
              "    </tr>\n",
              "    <tr>\n",
              "      <th>...</th>\n",
              "      <td>...</td>\n",
              "      <td>...</td>\n",
              "      <td>...</td>\n",
              "      <td>...</td>\n",
              "      <td>...</td>\n",
              "      <td>...</td>\n",
              "      <td>...</td>\n",
              "      <td>...</td>\n",
              "    </tr>\n",
              "    <tr>\n",
              "      <th>2018</th>\n",
              "      <td>0.285836</td>\n",
              "      <td>0.287758</td>\n",
              "      <td>0.387731</td>\n",
              "      <td>0.316150</td>\n",
              "      <td>0.016401</td>\n",
              "      <td>0.927211</td>\n",
              "      <td>0.827538</td>\n",
              "      <td>increase</td>\n",
              "    </tr>\n",
              "    <tr>\n",
              "      <th>2019</th>\n",
              "      <td>0.291809</td>\n",
              "      <td>0.271860</td>\n",
              "      <td>0.383102</td>\n",
              "      <td>0.313033</td>\n",
              "      <td>0.004980</td>\n",
              "      <td>0.948253</td>\n",
              "      <td>0.830815</td>\n",
              "      <td>decrease</td>\n",
              "    </tr>\n",
              "    <tr>\n",
              "      <th>2020</th>\n",
              "      <td>0.289249</td>\n",
              "      <td>0.273450</td>\n",
              "      <td>0.378472</td>\n",
              "      <td>0.313033</td>\n",
              "      <td>0.008577</td>\n",
              "      <td>0.964455</td>\n",
              "      <td>0.835370</td>\n",
              "      <td>same</td>\n",
              "    </tr>\n",
              "    <tr>\n",
              "      <th>2021</th>\n",
              "      <td>0.287543</td>\n",
              "      <td>0.267886</td>\n",
              "      <td>0.373843</td>\n",
              "      <td>0.303679</td>\n",
              "      <td>0.006388</td>\n",
              "      <td>0.954420</td>\n",
              "      <td>0.810924</td>\n",
              "      <td>decrease</td>\n",
              "    </tr>\n",
              "    <tr>\n",
              "      <th>2022</th>\n",
              "      <td>0.273038</td>\n",
              "      <td>0.266296</td>\n",
              "      <td>0.368056</td>\n",
              "      <td>0.303679</td>\n",
              "      <td>0.009010</td>\n",
              "      <td>0.952655</td>\n",
              "      <td>0.806446</td>\n",
              "      <td>same</td>\n",
              "    </tr>\n",
              "  </tbody>\n",
              "</table>\n",
              "<p>2022 rows × 8 columns</p>\n",
              "</div>"
            ],
            "text/plain": [
              "          Open      High       Low  ...    KOSDAQ     KOSPI       clf\n",
              "1     0.208191  0.196343  0.265046  ...  0.214823  0.283264  increase\n",
              "2     0.207338  0.194754  0.245370  ...  0.206374  0.286143  decrease\n",
              "3     0.192833  0.181240  0.236111  ...  0.189168  0.280987  decrease\n",
              "4     0.168942  0.160572  0.214352  ...  0.172917  0.261812  decrease\n",
              "5     0.166382  0.163752  0.223380  ...  0.153737  0.247262  increase\n",
              "...        ...       ...       ...  ...       ...       ...       ...\n",
              "2018  0.285836  0.287758  0.387731  ...  0.927211  0.827538  increase\n",
              "2019  0.291809  0.271860  0.383102  ...  0.948253  0.830815  decrease\n",
              "2020  0.289249  0.273450  0.378472  ...  0.964455  0.835370      same\n",
              "2021  0.287543  0.267886  0.373843  ...  0.954420  0.810924  decrease\n",
              "2022  0.273038  0.266296  0.368056  ...  0.952655  0.806446      same\n",
              "\n",
              "[2022 rows x 8 columns]"
            ]
          },
          "metadata": {},
          "execution_count": 122
        }
      ]
    },
    {
      "cell_type": "code",
      "metadata": {
        "id": "hF83q7Dbb-9t"
      },
      "source": [
        "access_bio_df_scaled = pd.get_dummies(access_bio_df_scaled, columns=['clf'])"
      ],
      "execution_count": 125,
      "outputs": []
    },
    {
      "cell_type": "code",
      "metadata": {
        "id": "sFFDasdrZCMM"
      },
      "source": [
        "TEST_SIZE = 200\n",
        "\n",
        "access_bio_train = access_bio_df_scaled[:-TEST_SIZE]\n",
        "access_bio_test = access_bio_df_scaled[-TEST_SIZE:]"
      ],
      "execution_count": 126,
      "outputs": []
    },
    {
      "cell_type": "code",
      "metadata": {
        "id": "S2ID22rhKYp9"
      },
      "source": [
        "import numpy as np\n",
        "def make_dataset(data, label, window_size):\n",
        "    feature_list = []\n",
        "    label_list = []\n",
        "    for i in range(len(data) - window_size):\n",
        "        feature_list.append(np.array(data.iloc[i : i + window_size]))\n",
        "        label_list.append(np.array(label.iloc[i + window_size]))\n",
        "    return np.array(feature_list), np.array(label_list)"
      ],
      "execution_count": 127,
      "outputs": []
    },
    {
      "cell_type": "code",
      "metadata": {
        "id": "wwj9vicKZqvD"
      },
      "source": [
        "access_bio_feature_cols = ['Open', 'High', 'Low', 'Close', 'Volume', 'KOSPI', 'KOSDAQ', 'clf_increase', 'clf_same', 'clf_decrease']\n",
        "access_bio_label_cols = ['clf_increase', 'clf_same', 'clf_decrease']\n",
        "\n",
        "access_bio_train_feature = access_bio_train[access_bio_feature_cols]\n",
        "access_bio_train_label = access_bio_train[access_bio_label_cols]\n",
        "\n",
        "access_bio_test_feature = access_bio_test[access_bio_feature_cols]\n",
        "access_bio_test_label = access_bio_test[access_bio_label_cols]\n",
        "\n",
        "\n",
        "# train dataset\n",
        "access_bio_train_feature, access_bio_train_label = make_dataset(access_bio_train_feature, access_bio_train_label, 50)\n",
        "\n",
        "# train, validation set 생성\n",
        "from sklearn.model_selection import train_test_split\n",
        "access_bio_x_train, access_bio_x_valid, access_bio_y_train, access_bio_y_valid = train_test_split(access_bio_train_feature, access_bio_train_label, test_size=0.2)\n",
        "\n",
        "# test dataset (실제 예측 해볼 데이터)\n",
        "access_bio_test_feature, access_bio_test_label = make_dataset(access_bio_test_feature, access_bio_test_label, 50)"
      ],
      "execution_count": 128,
      "outputs": []
    },
    {
      "cell_type": "code",
      "metadata": {
        "colab": {
          "base_uri": "https://localhost:8080/"
        },
        "id": "BfuCjOrJeP_f",
        "outputId": "7a77cfb8-c996-4908-d662-1a72d4e84714"
      },
      "source": [
        "access_bio_train_feature.shape"
      ],
      "execution_count": 140,
      "outputs": [
        {
          "output_type": "execute_result",
          "data": {
            "text/plain": [
              "(1772, 50, 10)"
            ]
          },
          "metadata": {},
          "execution_count": 140
        }
      ]
    },
    {
      "cell_type": "code",
      "metadata": {
        "colab": {
          "base_uri": "https://localhost:8080/"
        },
        "id": "YYCU5qGXaB0Q",
        "outputId": "d61d037e-9d63-4476-e832-b240b412f8b8"
      },
      "source": [
        "from keras.models import Sequential\n",
        "from keras.layers import Dense\n",
        "from keras.layers import LSTM\n",
        "\n",
        "model = Sequential()\n",
        "model.add(LSTM(16, input_shape=(access_bio_train_feature.shape[1], access_bio_train_feature.shape[2]), activation='relu', return_sequences=False))\n",
        "model.add(Dense(3, activation = 'softmax'))\n",
        "\n",
        "model.compile(loss='categorical_crossentropy', optimizer='adam', metrics=['accuracy'])\n",
        "history = model.fit(access_bio_x_train, access_bio_y_train, epochs=20,  batch_size=8, validation_data=(access_bio_x_valid, access_bio_y_valid), verbose = 1)"
      ],
      "execution_count": 143,
      "outputs": [
        {
          "output_type": "stream",
          "name": "stdout",
          "text": [
            "Epoch 1/20\n",
            "178/178 [==============================] - 4s 18ms/step - loss: 0.9180 - accuracy: 0.4637 - val_loss: 0.8667 - val_accuracy: 0.4789\n",
            "Epoch 2/20\n",
            "178/178 [==============================] - 3s 16ms/step - loss: 0.8712 - accuracy: 0.4778 - val_loss: 0.8656 - val_accuracy: 0.5070\n",
            "Epoch 3/20\n",
            "178/178 [==============================] - 3s 17ms/step - loss: 0.8655 - accuracy: 0.4827 - val_loss: 0.8690 - val_accuracy: 0.5127\n",
            "Epoch 4/20\n",
            "178/178 [==============================] - 3s 16ms/step - loss: 0.8675 - accuracy: 0.4876 - val_loss: 0.8632 - val_accuracy: 0.4507\n",
            "Epoch 5/20\n",
            "178/178 [==============================] - 3s 16ms/step - loss: 0.8669 - accuracy: 0.4665 - val_loss: 0.8644 - val_accuracy: 0.4676\n",
            "Epoch 6/20\n",
            "178/178 [==============================] - 3s 16ms/step - loss: 0.8649 - accuracy: 0.4742 - val_loss: 0.8612 - val_accuracy: 0.5155\n",
            "Epoch 7/20\n",
            "178/178 [==============================] - 3s 17ms/step - loss: 0.8657 - accuracy: 0.4905 - val_loss: 0.8607 - val_accuracy: 0.5155\n",
            "Epoch 8/20\n",
            "178/178 [==============================] - 3s 17ms/step - loss: 0.8661 - accuracy: 0.4919 - val_loss: 0.8629 - val_accuracy: 0.5127\n",
            "Epoch 9/20\n",
            "178/178 [==============================] - 3s 17ms/step - loss: 0.8652 - accuracy: 0.4933 - val_loss: 0.8715 - val_accuracy: 0.4254\n",
            "Epoch 10/20\n",
            "178/178 [==============================] - 3s 17ms/step - loss: 0.8641 - accuracy: 0.5004 - val_loss: 0.8647 - val_accuracy: 0.4930\n",
            "Epoch 11/20\n",
            "178/178 [==============================] - 3s 16ms/step - loss: 0.8619 - accuracy: 0.5060 - val_loss: 0.8646 - val_accuracy: 0.5183\n",
            "Epoch 12/20\n",
            "178/178 [==============================] - 3s 16ms/step - loss: 0.8637 - accuracy: 0.5025 - val_loss: 0.8689 - val_accuracy: 0.4282\n",
            "Epoch 13/20\n",
            "178/178 [==============================] - 3s 16ms/step - loss: 0.8624 - accuracy: 0.5131 - val_loss: 0.8702 - val_accuracy: 0.4254\n",
            "Epoch 14/20\n",
            "178/178 [==============================] - 3s 16ms/step - loss: 0.8627 - accuracy: 0.5046 - val_loss: 0.8716 - val_accuracy: 0.4282\n",
            "Epoch 15/20\n",
            "178/178 [==============================] - 3s 16ms/step - loss: 0.8621 - accuracy: 0.5060 - val_loss: 0.8670 - val_accuracy: 0.4930\n",
            "Epoch 16/20\n",
            "178/178 [==============================] - 3s 16ms/step - loss: 0.8619 - accuracy: 0.5004 - val_loss: 0.8749 - val_accuracy: 0.4113\n",
            "Epoch 17/20\n",
            "178/178 [==============================] - 3s 16ms/step - loss: 0.8610 - accuracy: 0.5025 - val_loss: 0.8696 - val_accuracy: 0.4761\n",
            "Epoch 18/20\n",
            "178/178 [==============================] - 3s 16ms/step - loss: 0.8615 - accuracy: 0.5053 - val_loss: 0.8720 - val_accuracy: 0.4845\n",
            "Epoch 19/20\n",
            "178/178 [==============================] - 3s 16ms/step - loss: 0.8611 - accuracy: 0.5095 - val_loss: 0.8720 - val_accuracy: 0.4873\n",
            "Epoch 20/20\n",
            "178/178 [==============================] - 3s 16ms/step - loss: 0.8609 - accuracy: 0.5074 - val_loss: 0.8701 - val_accuracy: 0.4986\n"
          ]
        }
      ]
    },
    {
      "cell_type": "code",
      "metadata": {
        "id": "0wynXMtcaVFb"
      },
      "source": [
        "access_bio_pred = model.predict(access_bio_test_feature)"
      ],
      "execution_count": 144,
      "outputs": []
    },
    {
      "cell_type": "code",
      "metadata": {
        "colab": {
          "base_uri": "https://localhost:8080/"
        },
        "id": "YYmUOMzodYyU",
        "outputId": "5e0cfbae-0a4e-4837-8828-787562aedf88"
      },
      "source": [
        "access_bio_pred"
      ],
      "execution_count": 145,
      "outputs": [
        {
          "output_type": "execute_result",
          "data": {
            "text/plain": [
              "array([[0.4209536 , 0.03625905, 0.54278743],\n",
              "       [0.4050905 , 0.0337451 , 0.56116444],\n",
              "       [0.4041259 , 0.03361595, 0.5622581 ],\n",
              "       [0.43268937, 0.03627586, 0.5310347 ],\n",
              "       [0.41811228, 0.03274605, 0.54914165],\n",
              "       [0.4498165 , 0.03440025, 0.5157833 ],\n",
              "       [0.46327835, 0.03369241, 0.5030292 ],\n",
              "       [0.47556525, 0.03219308, 0.4922416 ],\n",
              "       [0.4408887 , 0.02841116, 0.5307002 ],\n",
              "       [0.4300309 , 0.0269948 , 0.5429743 ],\n",
              "       [0.45686585, 0.02919136, 0.51394284],\n",
              "       [0.42925045, 0.02686217, 0.5438873 ],\n",
              "       [0.43231443, 0.02547995, 0.54220563],\n",
              "       [0.4369402 , 0.02475689, 0.5383029 ],\n",
              "       [0.43043292, 0.02506181, 0.5445053 ],\n",
              "       [0.43354556, 0.02596772, 0.54048663],\n",
              "       [0.44035578, 0.02655511, 0.5330891 ],\n",
              "       [0.49143788, 0.02769347, 0.48086867],\n",
              "       [0.5183176 , 0.02691677, 0.4547657 ],\n",
              "       [0.48413005, 0.02350175, 0.49236813],\n",
              "       [0.5316664 , 0.02383446, 0.44449914],\n",
              "       [0.5448605 , 0.02375311, 0.4313864 ],\n",
              "       [0.50121933, 0.02099968, 0.47778097],\n",
              "       [0.53754336, 0.02121413, 0.4412425 ],\n",
              "       [0.49377447, 0.01980794, 0.48641762],\n",
              "       [0.4784178 , 0.01860311, 0.50297904],\n",
              "       [0.46356016, 0.01888582, 0.51755404],\n",
              "       [0.50225294, 0.02087244, 0.4768746 ],\n",
              "       [0.51617515, 0.02152083, 0.462304  ],\n",
              "       [0.528895  , 0.02134423, 0.4497608 ],\n",
              "       [0.5342533 , 0.02098845, 0.4447583 ],\n",
              "       [0.48719004, 0.01906664, 0.4937433 ],\n",
              "       [0.51994157, 0.02006085, 0.4599976 ],\n",
              "       [0.47230932, 0.01942265, 0.5082681 ],\n",
              "       [0.4586532 , 0.01874131, 0.5226054 ],\n",
              "       [0.48782256, 0.02086798, 0.49130946],\n",
              "       [0.49612966, 0.02164078, 0.48222953],\n",
              "       [0.45651865, 0.01995996, 0.5235214 ],\n",
              "       [0.486894  , 0.02129615, 0.49180987],\n",
              "       [0.44730255, 0.02054748, 0.53215   ],\n",
              "       [0.47872964, 0.02181853, 0.49945182],\n",
              "       [0.48594156, 0.02279516, 0.4912633 ],\n",
              "       [0.44793868, 0.02086522, 0.53119606],\n",
              "       [0.43551153, 0.02052485, 0.5439636 ],\n",
              "       [0.46530917, 0.02307407, 0.5116167 ],\n",
              "       [0.4327883 , 0.02164312, 0.5455686 ],\n",
              "       [0.42465177, 0.02141742, 0.55393076],\n",
              "       [0.4546034 , 0.0239666 , 0.52142996],\n",
              "       [0.42630112, 0.02271205, 0.5509869 ],\n",
              "       [0.4244012 , 0.02226372, 0.5533351 ],\n",
              "       [0.45900464, 0.0249585 , 0.51603687],\n",
              "       [0.44294566, 0.02248185, 0.5345725 ],\n",
              "       [0.48830697, 0.02399314, 0.48769987],\n",
              "       [0.4660466 , 0.02121117, 0.5127422 ],\n",
              "       [0.46067512, 0.02012276, 0.5192022 ],\n",
              "       [0.5018861 , 0.02190035, 0.47621354],\n",
              "       [0.46580788, 0.02029627, 0.5138959 ],\n",
              "       [0.5115828 , 0.02097976, 0.46743748],\n",
              "       [0.52634925, 0.02150208, 0.45214868],\n",
              "       [0.4866896 , 0.01904773, 0.49426273],\n",
              "       [0.48981974, 0.01680481, 0.4933755 ],\n",
              "       [0.48084477, 0.01687996, 0.5022753 ],\n",
              "       [0.5376872 , 0.01788874, 0.4444241 ],\n",
              "       [0.49482867, 0.01689423, 0.48827708],\n",
              "       [0.5458755 , 0.01728617, 0.43683836],\n",
              "       [0.49635482, 0.01645179, 0.48719344],\n",
              "       [0.5431779 , 0.01682968, 0.43999246],\n",
              "       [0.55158377, 0.01765877, 0.4307574 ],\n",
              "       [0.5010545 , 0.01598659, 0.48295885],\n",
              "       [0.48213708, 0.01521255, 0.5026503 ],\n",
              "       [0.5193369 , 0.0172357 , 0.4634274 ],\n",
              "       [0.5296689 , 0.01808389, 0.45224714],\n",
              "       [0.48547518, 0.01670346, 0.49782145],\n",
              "       [0.5228691 , 0.01768245, 0.45944846],\n",
              "       [0.47613585, 0.01718495, 0.5066792 ],\n",
              "       [0.46648768, 0.01652414, 0.5169882 ],\n",
              "       [0.5047773 , 0.01857954, 0.4766432 ],\n",
              "       [0.4662975 , 0.01788555, 0.5158169 ],\n",
              "       [0.510434  , 0.01891451, 0.4706515 ],\n",
              "       [0.52423716, 0.01975795, 0.45600492],\n",
              "       [0.48806232, 0.01801902, 0.4939186 ],\n",
              "       [0.5270259 , 0.01845143, 0.45452264],\n",
              "       [0.53765917, 0.01929988, 0.443041  ],\n",
              "       [0.54789084, 0.01880915, 0.43329996],\n",
              "       [0.49624166, 0.01711907, 0.4866393 ],\n",
              "       [0.4776388 , 0.0161326 , 0.5062286 ],\n",
              "       [0.5143851 , 0.01799957, 0.46761525],\n",
              "       [0.5257491 , 0.01885342, 0.45539752],\n",
              "       [0.53661746, 0.01872751, 0.44465497],\n",
              "       [0.54172456, 0.01752367, 0.44075173],\n",
              "       [0.54231673, 0.01793429, 0.43974903],\n",
              "       [0.53845406, 0.01813045, 0.44341555],\n",
              "       [0.48012206, 0.01685682, 0.5030211 ],\n",
              "       [0.461584  , 0.01653544, 0.5218805 ],\n",
              "       [0.44211605, 0.01764468, 0.5402393 ],\n",
              "       [0.4679243 , 0.02000728, 0.51206845],\n",
              "       [0.4734643 , 0.02118877, 0.5053469 ],\n",
              "       [0.47992083, 0.02166778, 0.49841136],\n",
              "       [0.44106632, 0.0203436 , 0.5385901 ],\n",
              "       [0.4276055 , 0.02015307, 0.55224144],\n",
              "       [0.45310795, 0.02278748, 0.52410454],\n",
              "       [0.42178577, 0.02186613, 0.55634815],\n",
              "       [0.4499635 , 0.02371923, 0.5263173 ],\n",
              "       [0.45691717, 0.02457852, 0.5185043 ],\n",
              "       [0.4653619 , 0.02451682, 0.5101213 ],\n",
              "       [0.42943552, 0.02254662, 0.5480178 ],\n",
              "       [0.41845468, 0.02216864, 0.5593767 ],\n",
              "       [0.44518524, 0.0246974 , 0.5301174 ],\n",
              "       [0.41633976, 0.02351894, 0.56014127],\n",
              "       [0.445536  , 0.02541589, 0.5290482 ],\n",
              "       [0.415236  , 0.02406012, 0.5607039 ],\n",
              "       [0.41563952, 0.0234528 , 0.56090766],\n",
              "       [0.449306  , 0.02611004, 0.52458394],\n",
              "       [0.46226496, 0.0265402 , 0.5111949 ],\n",
              "       [0.47378737, 0.02612806, 0.5000845 ],\n",
              "       [0.43588835, 0.02350063, 0.540611  ],\n",
              "       [0.46827325, 0.02493001, 0.5067967 ],\n",
              "       [0.4756965 , 0.02559028, 0.49871323],\n",
              "       [0.48409742, 0.02520864, 0.49069387],\n",
              "       [0.49007708, 0.02511785, 0.48480505],\n",
              "       [0.44651714, 0.02276049, 0.5307223 ],\n",
              "       [0.4336609 , 0.02244942, 0.5438897 ],\n",
              "       [0.4596458 , 0.02485   , 0.51550424],\n",
              "       [0.46834683, 0.02566392, 0.50598925],\n",
              "       [0.43417102, 0.02386303, 0.5419659 ],\n",
              "       [0.46106398, 0.02558371, 0.5133523 ],\n",
              "       [0.4666747 , 0.02632739, 0.5069978 ],\n",
              "       [0.43205526, 0.02416084, 0.54378396],\n",
              "       [0.42191428, 0.02391199, 0.5541737 ],\n",
              "       [0.4475552 , 0.02640349, 0.5260412 ],\n",
              "       [0.42257598, 0.02477432, 0.55264974],\n",
              "       [0.4531177 , 0.02653302, 0.52034926],\n",
              "       [0.42315266, 0.02511309, 0.5517342 ],\n",
              "       [0.40989718, 0.02623123, 0.56387156],\n",
              "       [0.4264701 , 0.03295884, 0.5405711 ],\n",
              "       [0.44763532, 0.03236617, 0.5199985 ],\n",
              "       [0.42276868, 0.02931819, 0.54791313],\n",
              "       [0.41634038, 0.02867575, 0.5549838 ],\n",
              "       [0.4096407 , 0.02914321, 0.5612162 ],\n",
              "       [0.4375822 , 0.0318538 , 0.530564  ],\n",
              "       [0.4063892 , 0.03091664, 0.56269413],\n",
              "       [0.42693567, 0.03672481, 0.53633946],\n",
              "       [0.44778743, 0.03607978, 0.51613283],\n",
              "       [0.46177667, 0.03500973, 0.50321364],\n",
              "       [0.47283882, 0.03370272, 0.49345845],\n",
              "       [0.4402113 , 0.03028998, 0.52949876],\n",
              "       [0.42908534, 0.02920939, 0.5417053 ],\n",
              "       [0.45371655, 0.03135132, 0.5149321 ],\n",
              "       [0.4142038 , 0.03051418, 0.555282  ],\n",
              "       [0.43377757, 0.03574991, 0.5304725 ]], dtype=float32)"
            ]
          },
          "metadata": {},
          "execution_count": 145
        }
      ]
    },
    {
      "cell_type": "code",
      "metadata": {
        "id": "KsRifo8pdaNn"
      },
      "source": [
        ""
      ],
      "execution_count": null,
      "outputs": []
    }
  ]
}