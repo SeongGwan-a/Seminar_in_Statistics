{
  "nbformat": 4,
  "nbformat_minor": 0,
  "metadata": {
    "colab": {
      "name": "NLP 데이터 정제.ipynb",
      "provenance": [],
      "collapsed_sections": [
        "pIll2T_2sDTd",
        "4iRqVkmAlXtc"
      ],
      "mount_file_id": "1X6kfOrkki5jc5NmPZhKUc59PTUDdDAZT",
      "authorship_tag": "ABX9TyOuWFa+AH6ErDP3J6sxKsj7",
      "include_colab_link": true
    },
    "kernelspec": {
      "name": "python3",
      "display_name": "Python 3"
    },
    "language_info": {
      "name": "python"
    }
  },
  "cells": [
    {
      "cell_type": "markdown",
      "metadata": {
        "id": "view-in-github",
        "colab_type": "text"
      },
      "source": [
        "<a href=\"https://colab.research.google.com/github/tjdrhks0808/Seminar_in_Statistics/blob/gh-pages/NLP_%EB%8D%B0%EC%9D%B4%ED%84%B0_%EC%A0%95%EC%A0%9C.ipynb\" target=\"_parent\"><img src=\"https://colab.research.google.com/assets/colab-badge.svg\" alt=\"Open In Colab\"/></a>"
      ]
    },
    {
      "cell_type": "code",
      "metadata": {
        "id": "WQ55rNtRfA9h"
      },
      "source": [
        "import pandas as pd\n",
        "from tqdm import tqdm\n",
        "import re"
      ],
      "execution_count": 1,
      "outputs": []
    },
    {
      "cell_type": "code",
      "metadata": {
        "id": "6NYhlEmdexro"
      },
      "source": [
        "xlsx = pd.read_excel(\"/content/drive/MyDrive/NLP/공모전_제공_데이터(1차).xlsx\")"
      ],
      "execution_count": 2,
      "outputs": []
    },
    {
      "cell_type": "code",
      "metadata": {
        "id": "rOih6rjPfD4v"
      },
      "source": [
        "data = xlsx['발화']"
      ],
      "execution_count": 3,
      "outputs": []
    },
    {
      "cell_type": "code",
      "metadata": {
        "id": "zmjsygqHo7BN"
      },
      "source": [
        "length = len(data)"
      ],
      "execution_count": 4,
      "outputs": []
    },
    {
      "cell_type": "markdown",
      "metadata": {
        "id": "pIll2T_2sDTd"
      },
      "source": [
        "# 구두점/공백 제거"
      ]
    },
    {
      "cell_type": "code",
      "metadata": {
        "id": "O4XcU8rsfOjm"
      },
      "source": [
        "only_word = []\n",
        "for i in tqdm(range(length)):\n",
        "  tmp = re.compile('[^가-힣a-zA-Z0-9 | ㄱ-ㅎ | ㅏ-ㅣ]').sub(\"\",data[i])\n",
        "  only_word.append(tmp)"
      ],
      "execution_count": null,
      "outputs": []
    },
    {
      "cell_type": "code",
      "metadata": {
        "id": "gyhVCyQQjXBV"
      },
      "source": [
        "no_space = []\n",
        "for i in tqdm(range(length)):\n",
        "  tmp = re.sub(r\"\\s+\", \"\", only_word[i])\n",
        "  no_space.append(tmp)"
      ],
      "execution_count": null,
      "outputs": []
    },
    {
      "cell_type": "markdown",
      "metadata": {
        "id": "4iRqVkmAlXtc"
      },
      "source": [
        "#자동 띄어쓰기"
      ]
    },
    {
      "cell_type": "code",
      "metadata": {
        "id": "MqdvEdOyk7WO"
      },
      "source": [
        "# !pip install git+https://github.com/haven-jeon/PyKoSpacing.git"
      ],
      "execution_count": null,
      "outputs": []
    },
    {
      "cell_type": "code",
      "metadata": {
        "colab": {
          "base_uri": "https://localhost:8080/"
        },
        "id": "AGs4NylXlbfp",
        "outputId": "f55d9dbf-188b-4c90-9a69-da84b34523d0"
      },
      "source": [
        "from pykospacing import Spacing\n",
        "\n",
        "#Test\n",
        "spacing = Spacing()\n",
        "kospacing_data = spacing(no_space[0]) \n",
        "\n",
        "print(no_space[0])\n",
        "print(kospacing_data)"
      ],
      "execution_count": null,
      "outputs": [
        {
          "output_type": "stream",
          "text": [
            "상담직원과빠른연결했슴좋겠어요\n",
            "상담직원과 빠른 연결했슴 좋겠어요\n"
          ],
          "name": "stdout"
        }
      ]
    },
    {
      "cell_type": "code",
      "metadata": {
        "colab": {
          "base_uri": "https://localhost:8080/"
        },
        "id": "weiSJIA9l-R-",
        "outputId": "664efbc3-13d2-4607-8ca5-d9f9c5ba54da"
      },
      "source": [
        "spc_data = []\n",
        "\n",
        "for i in tqdm(range(length)):\n",
        "  spacing = Spacing()\n",
        "  tmp = spacing(no_space[i]) \n",
        "  spc_data.append(tmp)"
      ],
      "execution_count": null,
      "outputs": [
        {
          "output_type": "stream",
          "text": [
            "100%|██████████| 1000/1000 [01:05<00:00, 15.20it/s]\n"
          ],
          "name": "stderr"
        }
      ]
    },
    {
      "cell_type": "markdown",
      "metadata": {
        "id": "Mn771ndCn3O3"
      },
      "source": [
        "# 맞춤법 검사"
      ]
    },
    {
      "cell_type": "code",
      "metadata": {
        "id": "hQpcTsnln2v9",
        "colab": {
          "base_uri": "https://localhost:8080/"
        },
        "outputId": "bbbc392b-81b2-4bbc-f868-b4a50522392a"
      },
      "source": [
        "!pip install git+https://github.com/ssut/py-hanspell.git"
      ],
      "execution_count": 7,
      "outputs": [
        {
          "output_type": "stream",
          "text": [
            "Collecting git+https://github.com/ssut/py-hanspell.git\n",
            "  Cloning https://github.com/ssut/py-hanspell.git to /tmp/pip-req-build-cyaiqcew\n",
            "  Running command git clone -q https://github.com/ssut/py-hanspell.git /tmp/pip-req-build-cyaiqcew\n",
            "Requirement already satisfied: requests in /usr/local/lib/python3.7/dist-packages (from py-hanspell==1.1) (2.23.0)\n",
            "Requirement already satisfied: chardet<4,>=3.0.2 in /usr/local/lib/python3.7/dist-packages (from requests->py-hanspell==1.1) (3.0.4)\n",
            "Requirement already satisfied: certifi>=2017.4.17 in /usr/local/lib/python3.7/dist-packages (from requests->py-hanspell==1.1) (2021.5.30)\n",
            "Requirement already satisfied: urllib3!=1.25.0,!=1.25.1,<1.26,>=1.21.1 in /usr/local/lib/python3.7/dist-packages (from requests->py-hanspell==1.1) (1.24.3)\n",
            "Requirement already satisfied: idna<3,>=2.5 in /usr/local/lib/python3.7/dist-packages (from requests->py-hanspell==1.1) (2.10)\n",
            "Building wheels for collected packages: py-hanspell\n",
            "  Building wheel for py-hanspell (setup.py) ... \u001b[?25l\u001b[?25hdone\n",
            "  Created wheel for py-hanspell: filename=py_hanspell-1.1-py3-none-any.whl size=4870 sha256=d06c5249fabf95e16f25516fa4a91eee4b2d62a165d96adf3ad29f37e79d7c17\n",
            "  Stored in directory: /tmp/pip-ephem-wheel-cache-568_5r_r/wheels/ab/f5/7b/d4124bb329c905301baed80e2ae45aa14e824f62ebc3ec2cc4\n",
            "Successfully built py-hanspell\n",
            "Installing collected packages: py-hanspell\n",
            "Successfully installed py-hanspell-1.1\n"
          ],
          "name": "stdout"
        }
      ]
    },
    {
      "cell_type": "code",
      "metadata": {
        "colab": {
          "base_uri": "https://localhost:8080/"
        },
        "id": "k2VacrBEoDU0",
        "outputId": "f33d5636-588d-40f0-d504-816138a768a8"
      },
      "source": [
        "from hanspell import spell_checker\n",
        "\n",
        "#Test\n",
        "spelled_sent = spell_checker.check(data[0])\n",
        "hanspell_sent = spelled_sent.checked\n",
        "print(data[0])\n",
        "print(hanspell_sent)"
      ],
      "execution_count": 8,
      "outputs": [
        {
          "output_type": "stream",
          "text": [
            "상담직원과 빠른연결했슴좋겠어요\n",
            "상담직원과 빠른연결했슴좋겠어요\n"
          ],
          "name": "stdout"
        }
      ]
    },
    {
      "cell_type": "code",
      "metadata": {
        "colab": {
          "base_uri": "https://localhost:8080/",
          "height": 118
        },
        "id": "nAQUpDWwoVS1",
        "outputId": "eb904070-9bbd-44bb-ae27-fba3ce1f182b"
      },
      "source": [
        "spell_data = []\n",
        "\n",
        "for i in tqdm(range(length)):\n",
        "  tmp = spell_checker.check(data[i])\n",
        "  hanspell_tmp = tmp.checked\n",
        "  spell_data.append(hanspell_tmp)"
      ],
      "execution_count": 10,
      "outputs": [
        {
          "output_type": "stream",
          "text": [
            " 32%|███▏      | 318/1000 [01:11<03:08,  3.62it/s]"
          ],
          "name": "stderr"
        },
        {
          "output_type": "error",
          "ename": "ParseError",
          "evalue": "ignored",
          "traceback": [
            "\u001b[0;36m  File \u001b[0;32m\"<string>\"\u001b[0;36m, line \u001b[0;32munknown\u001b[0m\n\u001b[0;31mParseError\u001b[0m\u001b[0;31m:\u001b[0m not well-formed (invalid token): line 1, column 72\n"
          ]
        }
      ]
    },
    {
      "cell_type": "markdown",
      "metadata": {
        "id": "MA8MJ7YWsOu8"
      },
      "source": [
        "# 셀레니움 활용 부산대 맞춤법"
      ]
    },
    {
      "cell_type": "code",
      "metadata": {
        "id": "qgjWl8CNsRQc"
      },
      "source": [
        "!pip install Selenium\n",
        "!apt-get update\n",
        "!apt install chromium-chromedriver"
      ],
      "execution_count": null,
      "outputs": []
    },
    {
      "cell_type": "code",
      "metadata": {
        "colab": {
          "base_uri": "https://localhost:8080/"
        },
        "id": "mTmtBumdseyQ",
        "outputId": "235d5e50-9814-4f8a-c1a6-22d84cb8e5ad"
      },
      "source": [
        "from selenium import webdriver\n",
        "import time\n",
        "\n",
        "chrome_options = webdriver.ChromeOptions()\n",
        "chrome_options.add_argument('--headless')\n",
        "chrome_options.add_argument('--no-sandbox')\n",
        "chrome_options.add_argument('--disable-dev-shm-usage')\n",
        "wd = webdriver.Chrome('chromedriver',chrome_options=chrome_options)"
      ],
      "execution_count": null,
      "outputs": [
        {
          "output_type": "stream",
          "text": [
            "/usr/local/lib/python3.7/dist-packages/ipykernel_launcher.py:8: DeprecationWarning: use options instead of chrome_options\n",
            "  \n"
          ],
          "name": "stderr"
        }
      ]
    },
    {
      "cell_type": "code",
      "metadata": {
        "id": "G89Yxe_qsu6d"
      },
      "source": [
        "def spell_checking(sentence):\n",
        "  time.sleep(0.5)\n",
        "  wd.get('http://speller.cs.pusan.ac.kr/')\n",
        "  try:\n",
        "    wd.find_element_by_xpath('//*[@id=\"text1\"]').send_keys(sentence)\n",
        "    wd.find_element_by_xpath('//*[@id=\"btnCheck\"]').click()\n",
        "    time.sleep(1)\n",
        "    entity_num = 0\n",
        "    while True:\n",
        "      try:\n",
        "        wd.find_element_by_xpath('//*[@id=\"tdReplaceWord_'+str(entity_num)+'\"]/ul/li/a').click()\n",
        "        entity_num += 1\n",
        "      except:\n",
        "        break\n",
        "    texts = wd.find_element_by_xpath('//*[@id=\"tdCorrection1stBox\"]').text\n",
        "    return texts\n",
        "  except:\n",
        "    return sentence"
      ],
      "execution_count": null,
      "outputs": []
    },
    {
      "cell_type": "code",
      "metadata": {
        "colab": {
          "base_uri": "https://localhost:8080/"
        },
        "id": "QmJXk4yztavd",
        "outputId": "99031cb1-f105-43c4-ff6e-efae5353327b"
      },
      "source": [
        "spell_data2 = []\n",
        "\n",
        "for i in tqdm(range(length)):\n",
        "  tmp = spell_checking(spc_data[i])\n",
        "  spell_data2.append(tmp)"
      ],
      "execution_count": null,
      "outputs": [
        {
          "output_type": "stream",
          "text": [
            "100%|██████████| 1000/1000 [39:18<00:00,  2.36s/it]\n"
          ],
          "name": "stderr"
        }
      ]
    },
    {
      "cell_type": "markdown",
      "metadata": {
        "id": "3lCSeITcr_Ak"
      },
      "source": [
        "# 원본과 대조"
      ]
    },
    {
      "cell_type": "code",
      "metadata": {
        "id": "SubY2ZK8qdF1"
      },
      "source": [
        "compare = pd.DataFrame()\n",
        "compare['원본'] = data\n",
        "compare['네이버'] = spell_data\n",
        "compare['부산대'] = spell_data2"
      ],
      "execution_count": null,
      "outputs": []
    },
    {
      "cell_type": "code",
      "metadata": {
        "colab": {
          "base_uri": "https://localhost:8080/",
          "height": 788
        },
        "id": "X6WpwSI0qk2u",
        "outputId": "515dc4d5-c8af-45b7-8451-424914b2d7f1"
      },
      "source": [
        "compare[300:320]"
      ],
      "execution_count": null,
      "outputs": [
        {
          "output_type": "execute_result",
          "data": {
            "text/html": [
              "<div>\n",
              "<style scoped>\n",
              "    .dataframe tbody tr th:only-of-type {\n",
              "        vertical-align: middle;\n",
              "    }\n",
              "\n",
              "    .dataframe tbody tr th {\n",
              "        vertical-align: top;\n",
              "    }\n",
              "\n",
              "    .dataframe thead th {\n",
              "        text-align: right;\n",
              "    }\n",
              "</style>\n",
              "<table border=\"1\" class=\"dataframe\">\n",
              "  <thead>\n",
              "    <tr style=\"text-align: right;\">\n",
              "      <th></th>\n",
              "      <th>원본</th>\n",
              "      <th>네이버</th>\n",
              "      <th>부산대</th>\n",
              "    </tr>\n",
              "  </thead>\n",
              "  <tbody>\n",
              "    <tr>\n",
              "      <th>300</th>\n",
              "      <td>다른제유보험회사전화불미스럽습니다</td>\n",
              "      <td>다른 제 뉴 보험회사 전화 불미스럽습니다</td>\n",
              "      <td>다른 제유보험회사 전화 불미스럽습니다</td>\n",
              "    </tr>\n",
              "    <tr>\n",
              "      <th>301</th>\n",
              "      <td>대출관련 마케팅 문자 권유 불쾌함</td>\n",
              "      <td>대출 관련 마케팅 문자 권유 불쾌함</td>\n",
              "      <td>대출 관련 마케팅 문자 권유 불쾌함</td>\n",
              "    </tr>\n",
              "    <tr>\n",
              "      <th>302</th>\n",
              "      <td>광고제발 놉</td>\n",
              "      <td>광고제 발놉</td>\n",
              "      <td>광고제 발본</td>\n",
              "    </tr>\n",
              "    <tr>\n",
              "      <th>303</th>\n",
              "      <td>쓸데없이ㅡ전화하지ㅡ않았으면 좋겠습니다.</td>\n",
              "      <td>쓸데없이 ㅡ 전화하지ㅡ 않았으면 좋겠습니다</td>\n",
              "      <td>쓸데없이 전화하지 않았으면 좋겠습니다</td>\n",
              "    </tr>\n",
              "    <tr>\n",
              "      <th>304</th>\n",
              "      <td>전화가너무많이걸 려옵니다</td>\n",
              "      <td>전화가 너무 많이 걸려옵니다</td>\n",
              "      <td>전화가 너무 많이 걸려옵니다</td>\n",
              "    </tr>\n",
              "    <tr>\n",
              "      <th>305</th>\n",
              "      <td>문자나  메일로  상품 광고 안내를 했으면.좋을듯...근무중 상품 광고를 전화를 받...</td>\n",
              "      <td>문자나 메일로 상품 광고 안내를 했으면 좋을 듯 근무 중 상품 광고를 전화를 받으면...</td>\n",
              "      <td>문자나 메일로 상품 광고 안내를 했으면 좋을 듯 근무 중 상품 광고를 전화를 받으면...</td>\n",
              "    </tr>\n",
              "    <tr>\n",
              "      <th>306</th>\n",
              "      <td>제휴 보험회사 연락이 안왔으면 해요</td>\n",
              "      <td>제휴 보험회사 연락이 안 왔으면 해요</td>\n",
              "      <td>제휴보험회사 연락이 안 왔으면 해요</td>\n",
              "    </tr>\n",
              "    <tr>\n",
              "      <th>307</th>\n",
              "      <td>마케팅 활용 전화시 미리 보험이면 보험이라고 얘기를 하고 통화 지속여부 확인하고 통...</td>\n",
              "      <td>마케팅 활용 전화 시 미리 보험이면 보험이라고 얘기를 하고 통화 지속 여부 확인하고...</td>\n",
              "      <td>마케팅 활용 전화 시 미리 보험이면 보험이라고 얘기를 하고 통화 지속 여부 확인하고...</td>\n",
              "    </tr>\n",
              "    <tr>\n",
              "      <th>308</th>\n",
              "      <td>삼성카드는 그렇지 않겠지만 타 카드 회사는 보험회사와 연결되는 전화가 오는 경우가 ...</td>\n",
              "      <td>삼성카드는 그렇지 않겠지만 타 카드 회사는 보험회사와 연결되는 전화가 오는 경우가 ...</td>\n",
              "      <td>삼성카드는 그렇지 않겠지만 타 카드 회사는 보험회사와 연결되는 전화가 오는 경우가 ...</td>\n",
              "    </tr>\n",
              "    <tr>\n",
              "      <th>309</th>\n",
              "      <td>연계된 제휴사 (보험)안내 없는카드사되주세요</td>\n",
              "      <td>연계된 제휴사 보험 안내 없는 카드사 돼주세요</td>\n",
              "      <td>연계된 제휴사 보험 안내 없는 카드사되 주세요</td>\n",
              "    </tr>\n",
              "    <tr>\n",
              "      <th>310</th>\n",
              "      <td>보험 안내 해서 해지 했씀</td>\n",
              "      <td>보험안내해서 해지했음</td>\n",
              "      <td>보험 안내해서 해지했음</td>\n",
              "    </tr>\n",
              "    <tr>\n",
              "      <th>311</th>\n",
              "      <td>좋았습니다. 다만 보험 전화 좀 그만하셨으면 좋겠습니다. 이미 가입한 보험이 있는데...</td>\n",
              "      <td>좋았습니다 다만 보험 전화 좀 그만하셨으면 좋겠습니다 이미 가입한 보험이 있는데도 ...</td>\n",
              "      <td>좋았습니다 다만 보험 전화 좀 그만하셨으면 좋겠습니다. 이미가입한 보험이 있는데도 ...</td>\n",
              "    </tr>\n",
              "    <tr>\n",
              "      <th>312</th>\n",
              "      <td>카드 취소되면 베네포유 복지포인트 자동으로 복구시켜 주세요</td>\n",
              "      <td>카드 취소되면 베네 포유 복지포인트 자동으로 복구시켜 주세요</td>\n",
              "      <td>카드 취소되면 베네 젖 먹이기 복지포인트 자동으로 복구 시켜 주세요</td>\n",
              "    </tr>\n",
              "    <tr>\n",
              "      <th>313</th>\n",
              "      <td>복지포인트사용이 너무 어려워요</td>\n",
              "      <td>복지포인트 사용이 너무 어려워요</td>\n",
              "      <td>복지포인트 사용이 너무 어려워요</td>\n",
              "    </tr>\n",
              "    <tr>\n",
              "      <th>314</th>\n",
              "      <td>한마디로 짜증 제대로 다시는 삼성렌트 안씁니다  여기도담당아니다 저기도 담당 아니다...</td>\n",
              "      <td>한마디로 짜증 제대로 다시는 삼성 렌트 안 씁니다 여기도 담당 아니다 저기도 담당 ...</td>\n",
              "      <td>한마디로 짜증 제대로 다시는 삼성렌트 안 씁니다 여기도 담당 아니다 저기도 담당 아...</td>\n",
              "    </tr>\n",
              "    <tr>\n",
              "      <th>315</th>\n",
              "      <td>화면을보고하는게 익숙치않아서 음성으로하는게 더편합니다ᆞ</td>\n",
              "      <td>화면을 보고하는 게 익숙지 않아서 음성으로 하는 게 더 편합니다</td>\n",
              "      <td>화면을 보고하는 게 익숙지 않아서 음성으로 하는 게 더 편합니다</td>\n",
              "    </tr>\n",
              "    <tr>\n",
              "      <th>316</th>\n",
              "      <td>보이는 디지털AS는 넘 불편하게 되어있으며 원하는 화면이 보이지도 않습니다.첫화면에...</td>\n",
              "      <td>보이는 디지털 AS는 너무 불편하게 되어 있으며 원하는 화면이 보이지도 않습니다 첫...</td>\n",
              "      <td>보이는 디지털 AS는 너무 불편하게 되어 있으며 원하는 화면이 보이지도 않습니다. ...</td>\n",
              "    </tr>\n",
              "    <tr>\n",
              "      <th>317</th>\n",
              "      <td>모바일 화면 터치로 상담할 때 화면 화면으로 연결이 부자연 스러워요</td>\n",
              "      <td>모바일 화면 터치로 상담할 때 화면 화면으로 연결이 부자연스러워요</td>\n",
              "      <td>모바일 화면 터치로 상담할 때 화면 화면으로 연결이 부자연스러워요</td>\n",
              "    </tr>\n",
              "    <tr>\n",
              "      <th>318</th>\n",
              "      <td>스마트폰으로 상담하기가 너무 어려워요.보이는 ARS &amp; 음성 ARS 등...</td>\n",
              "      <td>스마트폰으로 상담하기가 너무 어려워요 보이는 ARS 음성 ARS 등</td>\n",
              "      <td>스마트폰으로 상담하기가 너무 어려워요 보이는 ARS 음성 ARS 등</td>\n",
              "    </tr>\n",
              "    <tr>\n",
              "      <th>319</th>\n",
              "      <td>스마트폰에 익숙하지 아니한 년령층의 간편하게 ARS 메인화면에 바로 상담직원 연결</td>\n",
              "      <td>스마트폰에 익숙하지 아니한 연령층의 간편하게 ARS 메인 화면에 바로 상담직원 연결</td>\n",
              "      <td>스마트폰에 익숙하지 아니한 연령층의 간편하게 ARS 메인 화면에 바로 상담직원 연결</td>\n",
              "    </tr>\n",
              "  </tbody>\n",
              "</table>\n",
              "</div>"
            ],
            "text/plain": [
              "                                                    원본  ...                                                부산대\n",
              "300                                  다른제유보험회사전화불미스럽습니다  ...                               다른 제유보험회사 전화 불미스럽습니다\n",
              "301                                 대출관련 마케팅 문자 권유 불쾌함  ...                                대출 관련 마케팅 문자 권유 불쾌함\n",
              "302                                             광고제발 놉  ...                                             광고제 발본\n",
              "303                              쓸데없이ㅡ전화하지ㅡ않았으면 좋겠습니다.  ...                               쓸데없이 전화하지 않았으면 좋겠습니다\n",
              "304                                      전화가너무많이걸 려옵니다  ...                                    전화가 너무 많이 걸려옵니다\n",
              "305  문자나  메일로  상품 광고 안내를 했으면.좋을듯...근무중 상품 광고를 전화를 받...  ...  문자나 메일로 상품 광고 안내를 했으면 좋을 듯 근무 중 상품 광고를 전화를 받으면...\n",
              "306                                제휴 보험회사 연락이 안왔으면 해요  ...                                제휴보험회사 연락이 안 왔으면 해요\n",
              "307  마케팅 활용 전화시 미리 보험이면 보험이라고 얘기를 하고 통화 지속여부 확인하고 통...  ...  마케팅 활용 전화 시 미리 보험이면 보험이라고 얘기를 하고 통화 지속 여부 확인하고...\n",
              "308  삼성카드는 그렇지 않겠지만 타 카드 회사는 보험회사와 연결되는 전화가 오는 경우가 ...  ...  삼성카드는 그렇지 않겠지만 타 카드 회사는 보험회사와 연결되는 전화가 오는 경우가 ...\n",
              "309                           연계된 제휴사 (보험)안내 없는카드사되주세요  ...                          연계된 제휴사 보험 안내 없는 카드사되 주세요\n",
              "310                                     보험 안내 해서 해지 했씀  ...                                       보험 안내해서 해지했음\n",
              "311  좋았습니다. 다만 보험 전화 좀 그만하셨으면 좋겠습니다. 이미 가입한 보험이 있는데...  ...  좋았습니다 다만 보험 전화 좀 그만하셨으면 좋겠습니다. 이미가입한 보험이 있는데도 ...\n",
              "312                   카드 취소되면 베네포유 복지포인트 자동으로 복구시켜 주세요  ...              카드 취소되면 베네 젖 먹이기 복지포인트 자동으로 복구 시켜 주세요\n",
              "313                                   복지포인트사용이 너무 어려워요  ...                                  복지포인트 사용이 너무 어려워요\n",
              "314  한마디로 짜증 제대로 다시는 삼성렌트 안씁니다  여기도담당아니다 저기도 담당 아니다...  ...  한마디로 짜증 제대로 다시는 삼성렌트 안 씁니다 여기도 담당 아니다 저기도 담당 아...\n",
              "315                     화면을보고하는게 익숙치않아서 음성으로하는게 더편합니다ᆞ  ...                화면을 보고하는 게 익숙지 않아서 음성으로 하는 게 더 편합니다\n",
              "316  보이는 디지털AS는 넘 불편하게 되어있으며 원하는 화면이 보이지도 않습니다.첫화면에...  ...  보이는 디지털 AS는 너무 불편하게 되어 있으며 원하는 화면이 보이지도 않습니다. ...\n",
              "317              모바일 화면 터치로 상담할 때 화면 화면으로 연결이 부자연 스러워요  ...               모바일 화면 터치로 상담할 때 화면 화면으로 연결이 부자연스러워요\n",
              "318         스마트폰으로 상담하기가 너무 어려워요.보이는 ARS & 음성 ARS 등...  ...              스마트폰으로 상담하기가 너무 어려워요 보이는 ARS 음성 ARS 등\n",
              "319      스마트폰에 익숙하지 아니한 년령층의 간편하게 ARS 메인화면에 바로 상담직원 연결  ...     스마트폰에 익숙하지 아니한 연령층의 간편하게 ARS 메인 화면에 바로 상담직원 연결\n",
              "\n",
              "[20 rows x 3 columns]"
            ]
          },
          "metadata": {
            "tags": []
          },
          "execution_count": 85
        }
      ]
    },
    {
      "cell_type": "code",
      "metadata": {
        "id": "su5X6jAY9ATT"
      },
      "source": [
        "compare.to_csv('/content/drive/MyDrive/NLP/데이터_정제.csv')"
      ],
      "execution_count": null,
      "outputs": []
    }
  ]
}