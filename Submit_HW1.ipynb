{
  "nbformat": 4,
  "nbformat_minor": 0,
  "metadata": {
    "colab": {
      "name": "Submit_HW1.ipynb",
      "private_outputs": true,
      "provenance": [],
      "authorship_tag": "ABX9TyNFo0HCVUY60qToOIC3I3yf",
      "include_colab_link": true
    },
    "kernelspec": {
      "name": "ir",
      "display_name": "R"
    }
  },
  "cells": [
    {
      "cell_type": "markdown",
      "metadata": {
        "id": "view-in-github",
        "colab_type": "text"
      },
      "source": [
        "<a href=\"https://colab.research.google.com/github/tjdrhks0808/Seminar_in_Statistics/blob/gh-pages/Submit_HW1.ipynb\" target=\"_parent\"><img src=\"https://colab.research.google.com/assets/colab-badge.svg\" alt=\"Open In Colab\"/></a>"
      ]
    },
    {
      "cell_type": "markdown",
      "metadata": {
        "id": "Fy1ov6vR-qak"
      },
      "source": [
        "# R Practice (tidyverse / ggplot )"
      ]
    },
    {
      "cell_type": "code",
      "metadata": {
        "id": "eqUEqPcTwtHO"
      },
      "source": [
        "install.packages(\"nycflights13\")"
      ],
      "execution_count": null,
      "outputs": []
    },
    {
      "cell_type": "code",
      "metadata": {
        "id": "u1pFmiuiw6ah"
      },
      "source": [
        "library(nycflights13)"
      ],
      "execution_count": null,
      "outputs": []
    },
    {
      "cell_type": "code",
      "metadata": {
        "id": "_t4HHWGxxpMG"
      },
      "source": [
        "library(tidyverse)"
      ],
      "execution_count": null,
      "outputs": []
    },
    {
      "cell_type": "code",
      "metadata": {
        "id": "F2O9Mzs8xJs1"
      },
      "source": [
        "# 칼럼 설명 확인\r\n",
        "\r\n",
        "?flights"
      ],
      "execution_count": null,
      "outputs": []
    },
    {
      "cell_type": "code",
      "metadata": {
        "id": "L9-TIJaU_Pxi"
      },
      "source": [
        "flights %>% summary()"
      ],
      "execution_count": null,
      "outputs": []
    },
    {
      "cell_type": "code",
      "metadata": {
        "id": "YXtXVdphChe_"
      },
      "source": [
        "# air_time per distance 변수 추가\r\n",
        "\r\n",
        "flights %>% mutate(air_distance = air_time / distance) %>% group_by(flight) %>% summarise(air = mean(air_distance, na.rm=TRUE)) %>% summary()"
      ],
      "execution_count": null,
      "outputs": []
    },
    {
      "cell_type": "code",
      "metadata": {
        "id": "g_pFZSkqD0I0"
      },
      "source": [
        "# 거리당 비행시간이 중간값보다 작은 비행기번호를 저장\r\n",
        "\r\n",
        "fast = flights %>% mutate(air_distance = air_time / distance) %>% group_by(flight) %>% summarise(air = mean(air_distance, na.rm=TRUE)) %>% filter(air < 0.1551) %>%\r\n",
        "select(flight)\r\n",
        "\r\n",
        "fast = fast %>% dplyr::pull(1)"
      ],
      "execution_count": null,
      "outputs": []
    },
    {
      "cell_type": "code",
      "metadata": {
        "id": "vRDlqDcPEtBX"
      },
      "source": [
        "# 거리당 비행시간이 짧은 비행기번호가 많이 있는 항공사와 출발공항을 시각화\r\n",
        "\r\n",
        "flights %>% filter(flight %in% fast) %>% group_by(carrier, origin) %>% summarise(count = n()) %>%\r\n",
        "ggplot(aes(carrier, count, color = origin)) +\r\n",
        "  geom_point()"
      ],
      "execution_count": null,
      "outputs": []
    },
    {
      "cell_type": "markdown",
      "metadata": {
        "id": "h6JtU9HzHpQx"
      },
      "source": [
        "같은 거리를 조금 더 빨리 운행하는 비행기를 타고 싶다면 'EWR' 공항에서 출발하는 'UA' 항공사의 비행기나 'JFK' 공항에서 출발하는 'B6' 항공사의 비행기를 이용할 수 있다면 좋다."
      ]
    },
    {
      "cell_type": "code",
      "metadata": {
        "id": "l-xxwu14F2RS"
      },
      "source": [
        ""
      ],
      "execution_count": null,
      "outputs": []
    }
  ]
}