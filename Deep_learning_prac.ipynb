{
  "nbformat": 4,
  "nbformat_minor": 0,
  "metadata": {
    "colab": {
      "name": "Deep_learning_prac.ipynb",
      "private_outputs": true,
      "provenance": [],
      "authorship_tag": "ABX9TyO30P4/IEVelwwG9DBUmi35",
      "include_colab_link": true
    },
    "kernelspec": {
      "name": "python3",
      "display_name": "Python 3"
    },
    "language_info": {
      "name": "python"
    },
    "accelerator": "GPU"
  },
  "cells": [
    {
      "cell_type": "markdown",
      "metadata": {
        "id": "view-in-github",
        "colab_type": "text"
      },
      "source": [
        "<a href=\"https://colab.research.google.com/github/tjdrhks0808/Seminar_in_Statistics/blob/gh-pages/Deep_learning_prac.ipynb\" target=\"_parent\"><img src=\"https://colab.research.google.com/assets/colab-badge.svg\" alt=\"Open In Colab\"/></a>"
      ]
    },
    {
      "cell_type": "markdown",
      "metadata": {
        "id": "MxH05jaQ-1J5"
      },
      "source": [
        "# first look"
      ]
    },
    {
      "cell_type": "markdown",
      "metadata": {
        "id": "GAiO0iUi57Jo"
      },
      "source": [
        "딥러닝 모델을 만드는데 필요한 tensorflow를 임포팅"
      ]
    },
    {
      "cell_type": "code",
      "metadata": {
        "id": "oOj59KCz5pcY"
      },
      "source": [
        "import tensorflow"
      ],
      "execution_count": null,
      "outputs": []
    },
    {
      "cell_type": "markdown",
      "metadata": {
        "id": "vElEwEGT6JZ8"
      },
      "source": [
        "모델에 사용할 mnist 데이터에서 학습용 데이터와 평가용 데이터를 구분해서 로드\n"
      ]
    },
    {
      "cell_type": "code",
      "metadata": {
        "id": "bcM3c8Sk6Gid"
      },
      "source": [
        "from tensorflow.keras.datasets import mnist\n",
        "\n",
        "(train_images, train_labels), (test_images, test_labels) = mnist.load_data()"
      ],
      "execution_count": null,
      "outputs": []
    },
    {
      "cell_type": "markdown",
      "metadata": {
        "id": "sYnxF3Cw7LIG"
      },
      "source": [
        "학습용 데이터 60,000개와 평가용 데이터 10,000개로 구성되어 있음"
      ]
    },
    {
      "cell_type": "code",
      "metadata": {
        "id": "LYeZkk2I6Iza"
      },
      "source": [
        "train_images.shape, test_images.shape"
      ],
      "execution_count": null,
      "outputs": []
    },
    {
      "cell_type": "markdown",
      "metadata": {
        "id": "YWTEe2T17ShI"
      },
      "source": [
        "keras 모듈 내에 있는 함수를 사용해 딥러닝 모델 생성\n",
        "\n",
        "첫번째 층의 활성화함수는 relu 함수로 512개의 결과를 산출하고\n",
        "두번째 층에서는 softmax 함수를 사용해 최종 결과로 도출해야하는 10개의 노드(0~9)를 산출한다."
      ]
    },
    {
      "cell_type": "code",
      "metadata": {
        "id": "BeOZs7lU7S2f"
      },
      "source": [
        "from tensorflow.keras import models\n",
        "from tensorflow.keras import layers\n",
        "\n",
        "network = models.Sequential()\n",
        "network.add(layers.Dense(512, activation='relu', input_shape=(28 * 28,)))\n",
        "network.add(layers.Dense(10, activation='softmax'))"
      ],
      "execution_count": null,
      "outputs": []
    },
    {
      "cell_type": "markdown",
      "metadata": {
        "id": "F6P7iDMs81vA"
      },
      "source": [
        "위 모델의 loss 함수는 categorical_crossentropy를 사용하고, rms를 사용해 최적화를 진행한다. 기준이 되는 값은 accuracy를 사용한다.\n",
        "\n"
      ]
    },
    {
      "cell_type": "code",
      "metadata": {
        "id": "lObqOxJP8zHL"
      },
      "source": [
        "network.compile(optimizer='rmsprop',\n",
        "                loss='categorical_crossentropy',\n",
        "                metrics=['accuracy'])"
      ],
      "execution_count": null,
      "outputs": []
    },
    {
      "cell_type": "markdown",
      "metadata": {
        "id": "MKu-AiIn9cy1"
      },
      "source": [
        "모델에 들어가는 input이 0가 1사이의 값이 되도록 조정"
      ]
    },
    {
      "cell_type": "code",
      "metadata": {
        "id": "HbZk3whB9ckf"
      },
      "source": [
        "train_images = train_images.reshape((60000, 28 * 28))\n",
        "train_images = train_images.astype('float32') / 255\n",
        "\n",
        "test_images = test_images.reshape((10000, 28 * 28))\n",
        "test_images = test_images.astype('float32') / 255"
      ],
      "execution_count": null,
      "outputs": []
    },
    {
      "cell_type": "markdown",
      "metadata": {
        "id": "qkWd324f9dlk"
      },
      "source": [
        "결과로 도출해야하는 값을 원핫인코딩을 통한 범주형 자료로 변환"
      ]
    },
    {
      "cell_type": "code",
      "metadata": {
        "id": "CtEz-fRQ9da7"
      },
      "source": [
        "from tensorflow.keras.utils import to_categorical\n",
        "\n",
        "train_labels = to_categorical(train_labels)\n",
        "test_labels = to_categorical(test_labels)"
      ],
      "execution_count": null,
      "outputs": []
    },
    {
      "cell_type": "markdown",
      "metadata": {
        "id": "I4-v9r6M9fAj"
      },
      "source": [
        "epoch를 5, batch size를 128로 설정해 학습을 진행한다."
      ]
    },
    {
      "cell_type": "code",
      "metadata": {
        "id": "FtYyKVhZ9fbn"
      },
      "source": [
        "network.fit(train_images, train_labels, epochs=5, batch_size=128)"
      ],
      "execution_count": null,
      "outputs": []
    },
    {
      "cell_type": "markdown",
      "metadata": {
        "id": "Yt4v4l9M9hGu"
      },
      "source": [
        "평가용 데이터로 모델의 성능을 확인한 결과, 0.98의 accuracy를 볼 수 있다."
      ]
    },
    {
      "cell_type": "code",
      "metadata": {
        "id": "118Ptm969g9g"
      },
      "source": [
        "test_loss, test_acc = network.evaluate(test_images, test_labels)"
      ],
      "execution_count": null,
      "outputs": []
    },
    {
      "cell_type": "code",
      "metadata": {
        "id": "6kBTHLVi9iqG"
      },
      "source": [
        "print('test_acc:', test_acc)"
      ],
      "execution_count": null,
      "outputs": []
    },
    {
      "cell_type": "markdown",
      "metadata": {
        "id": "byizy85O-42n"
      },
      "source": [
        "# layer의 개수를 바꿔서 시도"
      ]
    },
    {
      "cell_type": "code",
      "metadata": {
        "id": "_xM_LX8t-yxH"
      },
      "source": [
        "from tensorflow.keras import models\n",
        "from tensorflow.keras import layers\n",
        "\n",
        "model1 = models.Sequential()\n",
        "model1.add(layers.Dense(512, activation='relu', input_shape=(28 * 28,)))\n",
        "model1.add(layers.Dense(100, activation='relu'))\n",
        "model1.add(layers.Dense(10, activation='softmax'))"
      ],
      "execution_count": null,
      "outputs": []
    },
    {
      "cell_type": "code",
      "metadata": {
        "id": "J-NMwXaV_FTE"
      },
      "source": [
        "model1.compile(optimizer='rmsprop',\n",
        "                loss='categorical_crossentropy',\n",
        "                metrics=['accuracy'])"
      ],
      "execution_count": null,
      "outputs": []
    },
    {
      "cell_type": "code",
      "metadata": {
        "id": "HedV55b9_Jbp"
      },
      "source": [
        "model1.fit(train_images, train_labels, epochs=5, batch_size=128)"
      ],
      "execution_count": null,
      "outputs": []
    },
    {
      "cell_type": "code",
      "metadata": {
        "id": "dZ4dSgUt_OuC"
      },
      "source": [
        "test_loss, test_acc = network.evaluate(test_images, test_labels)"
      ],
      "execution_count": null,
      "outputs": []
    },
    {
      "cell_type": "code",
      "metadata": {
        "id": "atsb58u2_Z-t"
      },
      "source": [
        "print('test_acc:', test_acc)"
      ],
      "execution_count": null,
      "outputs": []
    },
    {
      "cell_type": "markdown",
      "metadata": {
        "id": "iHrmp8_6_dpV"
      },
      "source": [
        "layer를 늘렸을 때, train에서의 성능은 높아졌지만 test의 성능은 조금 낮아져 overfitting되었다고 판단할 수 있다."
      ]
    }
  ]
}